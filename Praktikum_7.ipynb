{
  "nbformat": 4,
  "nbformat_minor": 0,
  "metadata": {
    "colab": {
      "provenance": [],
      "authorship_tag": "ABX9TyPozXMhQMx+RQH8SyH4rurX",
      "include_colab_link": true
    },
    "kernelspec": {
      "name": "python3",
      "display_name": "Python 3"
    },
    "language_info": {
      "name": "python"
    }
  },
  "cells": [
    {
      "cell_type": "markdown",
      "metadata": {
        "id": "view-in-github",
        "colab_type": "text"
      },
      "source": [
        "<a href=\"https://colab.research.google.com/github/AnnisaCitraPratiwi/MK-SDA-Responsi/blob/main/Praktikum_7.ipynb\" target=\"_parent\"><img src=\"https://colab.research.google.com/assets/colab-badge.svg\" alt=\"Open In Colab\"/></a>"
      ]
    },
    {
      "cell_type": "markdown",
      "source": [
        "#Praktikum 7 SDA \n",
        "#Tanggal 31 Maret 2023"
      ],
      "metadata": {
        "id": "w3hJRWShPd9v"
      }
    },
    {
      "cell_type": "code",
      "source": [
        "nama_asdos = ['Annisa','Lathifah','Vidya','Billa']\n",
        "print (nama_asdos)"
      ],
      "metadata": {
        "colab": {
          "base_uri": "https://localhost:8080/"
        },
        "id": "TMX8E3G2Pibo",
        "outputId": "66397ad4-7ba5-44f0-e008-3902f8c16f9f"
      },
      "execution_count": 3,
      "outputs": [
        {
          "output_type": "stream",
          "name": "stdout",
          "text": [
            "['Annisa', 'Lathifah', 'Vidya', 'Billa']\n"
          ]
        }
      ]
    },
    {
      "cell_type": "code",
      "source": [
        "#menghitung panjang list\n",
        "nama_asdos = ['Annisa','Lathifah','Vidya','Billa']\n",
        "print(len(nama_asdos))\n"
      ],
      "metadata": {
        "colab": {
          "base_uri": "https://localhost:8080/"
        },
        "id": "mFCU_l_EP7tA",
        "outputId": "598b8547-253d-46e1-ad44-3d47d4138697"
      },
      "execution_count": 2,
      "outputs": [
        {
          "output_type": "stream",
          "name": "stdout",
          "text": [
            "['Annisa', 'Lathifah', 'Vidya', 'Billa']\n",
            "4\n"
          ]
        }
      ]
    },
    {
      "cell_type": "code",
      "source": [
        "#mengakses nilai pada list\n",
        "nama_asdos = ['Annisa','Lathifah','Vidya','Billa']\n",
        "print(nama_asdos[0]) #cetak list pertama\n",
        "print(nama_asdos[1]) #cetak list kedua\n",
        "print(nama_asdos[2]) #cetak list ketiga\n",
        "print(nama_asdos[3]) #cetak list keempat\n",
        "print()\n",
        "print(nama_asdos[-1]) #cetak list pertama dari kanan/belakang\n",
        "print(nama_asdos[-2]) #cetak list kedua dari kanan/belakang\n",
        "print(nama_asdos[-3]) #cetak list ketiga dari kanan/belakang\n",
        "print(nama_asdos[-4]) #cetak list keempat dari kanan/belakang"
      ],
      "metadata": {
        "colab": {
          "base_uri": "https://localhost:8080/"
        },
        "id": "suV1tSlzQHff",
        "outputId": "9a5ae4aa-6eb4-42a2-cc8e-bdc6d3c9b30d"
      },
      "execution_count": 13,
      "outputs": [
        {
          "output_type": "stream",
          "name": "stdout",
          "text": [
            "Annisa\n",
            "Lathifah\n",
            "Vidya\n",
            "Billa\n",
            "\n",
            "Billa\n",
            "Vidya\n",
            "Lathifah\n",
            "Annisa\n"
          ]
        }
      ]
    },
    {
      "cell_type": "code",
      "source": [
        "#mengganti nilai list\n",
        "nama_asdos = ['Annisa','Lathifah','Vidya','Billa']\n",
        "print('List sebelum dirubah = ', nama_asdos)\n",
        "nama_asdos [1] = 'Putri'\n",
        "nama_asdos [2] = 'Sinta'\n",
        "print('List setelah dirubah = ', nama_asdos)"
      ],
      "metadata": {
        "colab": {
          "base_uri": "https://localhost:8080/"
        },
        "id": "q8_SGk80QtLL",
        "outputId": "618122d1-cf18-418a-be84-b8e61d554a2a"
      },
      "execution_count": 15,
      "outputs": [
        {
          "output_type": "stream",
          "name": "stdout",
          "text": [
            "List sebelum dirubah =  ['Annisa', 'Lathifah', 'Vidya', 'Billa']\n",
            "List setelah dirubah =  ['Annisa', 'Putri', 'Sinta', 'Billa']\n"
          ]
        }
      ]
    },
    {
      "cell_type": "code",
      "source": [
        "#mengganti method pada list\n",
        "nama_asdos = ['Annisa','Lathifah','Vidya','Billa']\n",
        "print('List sebelum dirubah = ', nama_asdos)\n",
        "nama_asdos [1] = 'Putri'\n",
        "nama_asdos [2] = 'Sinta'\n",
        "print('List setelah dirubah = ', nama_asdos)\n",
        "print()\n",
        "print()\n",
        "nama_asdos.append ('Ikhsan')\n",
        "print(nama_asdos)"
      ],
      "metadata": {
        "colab": {
          "base_uri": "https://localhost:8080/"
        },
        "id": "XJjt4WYKS27p",
        "outputId": "20c20d79-687a-4b00-8bde-ca88abb6b209"
      },
      "execution_count": 18,
      "outputs": [
        {
          "output_type": "stream",
          "name": "stdout",
          "text": [
            "List sebelum dirubah =  ['Annisa', 'Lathifah', 'Vidya', 'Billa']\n",
            "List setelah dirubah =  ['Annisa', 'Putri', 'Sinta', 'Billa']\n",
            "\n",
            "\n",
            "['Annisa', 'Putri', 'Sinta', 'Billa', 'Ikhsan']\n"
          ]
        }
      ]
    },
    {
      "cell_type": "code",
      "source": [
        "#membuat tuple\n",
        "\n",
        "mahasiswa = ('Kurnia','Siti','Ikhsan','Naufal')\n",
        "print (mahasiswa)\n",
        "\n",
        "print()\n",
        "\n",
        "mahasiswa2 = 'vidya','billa'\n",
        "mahasiswa3 = 'Lathifah'\n",
        "mahasiswa4 = (\"Annisa,\")\n",
        "print(mahasiswa2)\n",
        "print(mahasiswa3)\n",
        "print(mahasiswa4)\n",
        "\n",
        "print()\n",
        "print(type(mahasiswa2))\n",
        "print(type(mahasiswa3))\n",
        "print(type(mahasiswa4))"
      ],
      "metadata": {
        "colab": {
          "base_uri": "https://localhost:8080/"
        },
        "id": "lvULTDR6TPUy",
        "outputId": "c5d37b7a-0c92-4740-ccb6-dcb54062416d"
      },
      "execution_count": 22,
      "outputs": [
        {
          "output_type": "stream",
          "name": "stdout",
          "text": [
            "('Kurnia', 'Siti', 'Ikhsan', 'Naufal')\n",
            "\n",
            "('vidya', 'billa')\n",
            "Lathifah\n",
            "Annisa,\n",
            "\n",
            "<class 'tuple'>\n",
            "<class 'str'>\n",
            "<class 'str'>\n"
          ]
        }
      ]
    },
    {
      "cell_type": "code",
      "source": [
        "#menghitung jumlah tuple\n",
        "mahasiswa = ('Kurnia','Siti','Ikhsan','Naufal')\n",
        "print (mahasiswa)\n",
        "\n",
        "print()\n",
        "\n",
        "mahasiswa2 = 'vidya','billa'\n",
        "mahasiswa3 = 'Lathifah'\n",
        "mahasiswa4 = (\"Annisa,\")\n",
        "print(mahasiswa2[1])\n",
        "print(mahasiswa3[0])\n",
        "print(mahasiswa4[0])"
      ],
      "metadata": {
        "colab": {
          "base_uri": "https://localhost:8080/"
        },
        "id": "KzMg4wUtUE3e",
        "outputId": "d7336821-ad5c-49af-9f57-8adcd17010c5"
      },
      "execution_count": 24,
      "outputs": [
        {
          "output_type": "stream",
          "name": "stdout",
          "text": [
            "('Kurnia', 'Siti', 'Ikhsan', 'Naufal')\n",
            "\n",
            "billa\n",
            "L\n",
            "A\n"
          ]
        }
      ]
    },
    {
      "cell_type": "code",
      "source": [],
      "metadata": {
        "id": "RBcf1Y0jUkCa"
      },
      "execution_count": null,
      "outputs": []
    },
    {
      "cell_type": "code",
      "source": [],
      "metadata": {
        "id": "DkKeTb3RUkI6"
      },
      "execution_count": null,
      "outputs": []
    },
    {
      "cell_type": "code",
      "source": [
        "#menggunakan method pada tuple\n",
        "mahasiswa = ('Kurnia','Siti','Ikhsan','Naufal')\n",
        "nama = mahasiswa.count('Kurnia')\n",
        "nama = mahasiswa.index('Kurnia')\n",
        "print(f\"Nama Kurnia disebut sebanyak {nama} kali\")\n",
        "print(f\"Nama Kurnia berada di indeks {nama}\")\n",
        "\n"
      ],
      "metadata": {
        "colab": {
          "base_uri": "https://localhost:8080/"
        },
        "id": "n0sg1dcQUkPq",
        "outputId": "0a8d1ef9-959c-4578-a8cb-295f9969eede"
      },
      "execution_count": 27,
      "outputs": [
        {
          "output_type": "stream",
          "name": "stdout",
          "text": [
            "Nama Kurnia disebut sebanyak 0 kali\n",
            "Nama Kurnia berada di indeks 0\n"
          ]
        }
      ]
    },
    {
      "cell_type": "code",
      "source": [
        "#menghitung panjang string"
      ],
      "metadata": {
        "id": "ICSrCwplVAeA"
      },
      "execution_count": null,
      "outputs": []
    },
    {
      "cell_type": "code",
      "source": [
        "#menggabungkan dua buah string\n",
        "firstname = 'Annisa'\n",
        "lastname = 'Citra'\n",
        "fullname = firstname + \" \" + lastname\n",
        "print(fullname)\n",
        "\n",
        "upper = fullname.upper()\n",
        "lower = fullname.lower()\n",
        "print()\n",
        "print ('Method lower : ', lower)\n",
        "print ('Method upper : ', upper)"
      ],
      "metadata": {
        "colab": {
          "base_uri": "https://localhost:8080/"
        },
        "id": "LI_1bfvDVDP4",
        "outputId": "0f46c906-3882-4170-b29a-f1594cffb3c0"
      },
      "execution_count": 32,
      "outputs": [
        {
          "output_type": "stream",
          "name": "stdout",
          "text": [
            "Annisa Citra\n",
            "\n",
            "Method lower :  annisa citra\n",
            "Method upper :  ANNISA CITRA\n"
          ]
        }
      ]
    }
  ]
}